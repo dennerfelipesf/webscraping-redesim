{
 "cells": [
  {
   "cell_type": "code",
   "execution_count": 134,
   "metadata": {},
   "outputs": [],
   "source": [
    "from selenium import webdriver\n",
    "from selenium.webdriver.support.ui import Select\n",
    "from selenium.webdriver.common.action_chains import ActionChains\n",
    "from selenium.webdriver.common.by import By\n",
    "import time\n",
    "import datetime"
   ]
  },
  {
   "cell_type": "code",
   "execution_count": 152,
   "metadata": {},
   "outputs": [],
   "source": [
    "# -------------------------------------------------------------#\n",
    "#                      Seletor de Anos                         #\n",
    "# -------------------------------------------------------------#\n",
    "\n",
    "currentDateTime = datetime.datetime.now()\n",
    "date = currentDateTime.date()\n",
    "ano_atual = date.strftime('%Y')\n",
    "mes_atual = date.strftime('%m')\n",
    "dia_atual = date.strftime('%d')\n",
    "\n",
    "# -------------------------------------------------------------#\n",
    "#                     Gerador de Lista de Anos                 #\n",
    "# -------------------------------------------------------------#\n",
    "\n",
    "cont = 2018\n",
    "ano_atual_int = int(ano_atual)\n",
    "lista_ano = []\n",
    "while cont < ano_atual_int:\n",
    "    cont = cont + 1\n",
    "    lista_ano += [str(cont)]"
   ]
  },
  {
   "cell_type": "code",
   "execution_count": 154,
   "metadata": {},
   "outputs": [
    {
     "data": {
      "text/plain": [
       "['2019', '2020', '2021', '2022']"
      ]
     },
     "execution_count": 154,
     "metadata": {},
     "output_type": "execute_result"
    }
   ],
   "source": [
    "lista_ano"
   ]
  },
  {
   "cell_type": "code",
   "execution_count": 148,
   "metadata": {},
   "outputs": [],
   "source": [
    "lista_mes= ['Janeiro', 'Fevereiro', 'Março', 'Abril', 'Maio', 'Junho', 'Julho', 'Agosto', 'Setembro', 'Outubro', 'Novembro', 'Dezembro']"
   ]
  },
  {
   "cell_type": "code",
   "execution_count": 141,
   "metadata": {},
   "outputs": [
    {
     "name": "stderr",
     "output_type": "stream",
     "text": [
      "C:\\Users\\BOLSIS~1.01\\AppData\\Local\\Temp/ipykernel_3544/614413563.py:1: DeprecationWarning: firefox_profile has been deprecated, please use an Options object\n",
      "  profile = webdriver.FirefoxProfile()\n",
      "C:\\Users\\BOLSIS~1.01\\AppData\\Local\\Temp/ipykernel_3544/614413563.py:7: DeprecationWarning: firefox_profile has been deprecated, please pass in an Options object\n",
      "  navegador = webdriver.Firefox(firefox_profile=profile)\n"
     ]
    }
   ],
   "source": [
    "profile = webdriver.FirefoxProfile()\n",
    "profile.set_preference(\"browser.download.folderList\", 2)\n",
    "profile.set_preference(\"browser.download.manager.showWhenStarting\", False)\n",
    "profile.set_preference(\"browser.download.dir\", r\"C:\\Users\\nome_usuario\\Downloads\\Teste\") # Colocar o diretório do usuário\n",
    "profile.set_preference(\"browser.helperApps.neverAsk.saveToDisk\", \"application/x-gzip\")\n",
    "\n",
    "navegador = webdriver.Firefox(firefox_profile=profile)\n"
   ]
  },
  {
   "cell_type": "code",
   "execution_count": 142,
   "metadata": {},
   "outputs": [],
   "source": [
    "navegador.get('https://estatistica.redesim.gov.br/tempos-abertura')"
   ]
  },
  {
   "cell_type": "code",
   "execution_count": 89,
   "metadata": {},
   "outputs": [],
   "source": [
    "# # Função de Seleção de Ano no RedeSim\n",
    "# def selecao_ano(year):\n",
    "#     elemento_ano = navegador.find_element_by_name('anoFiltro')\n",
    "#     drop = Select(elemento_ano)\n",
    "#     drop.select_by_visible_text(year)\n",
    "    \n",
    "# # Função de Seleção Mês no Rede Sim\n",
    "# def selecao_mes(mes):\n",
    "#     elemento_mes = navegador.find_element_by_name('mesFiltro')\n",
    "#     drop = Select(elemento_mes)\n",
    "#     drop.select_by_visible_text(mes)\n",
    "\n",
    "# # Botão para Selecionar o Filtro Após ano e Mês\n",
    "# def botao_filtro_data():\n",
    "#     submit_button = navegador.find_element_by_xpath(\"//*[@class='btn btn-primary' and @type='submit']\")\n",
    "#     submit_button.click()\n",
    "\n",
    "# def select_uf(estado):\n",
    "#     filtro_uf = navegador.find_element_by_name('ufFiltro')\n",
    "#     drop = Select(filtro_uf)\n",
    "#     drop.select_by_visible_text(estado)\n",
    "    \n",
    "# def botao_exportar():\n",
    "#     submit_button = navegador.find_element_by_xpath(\"//*[@class='fa fa-file-pdf-o']\")\n",
    "#     submit_button.click()"
   ]
  },
  {
   "cell_type": "code",
   "execution_count": 143,
   "metadata": {},
   "outputs": [],
   "source": [
    "#Função de Seleção de Ano no RedeSim\n",
    "def selecao_ano(year):\n",
    "    elemento_ano = navegador.find_element(by=By.NAME, value='anoFiltro')\n",
    "    drop = Select(elemento_ano)\n",
    "    drop.select_by_visible_text(year)\n",
    "    \n",
    "# Função de Seleção Mês no Rede Sim\n",
    "def selecao_mes(mes):\n",
    "    elemento_mes = navegador.find_element(by=By.NAME, value='mesFiltro')\n",
    "    drop = Select(elemento_mes)\n",
    "    drop.select_by_visible_text(mes)\n",
    "\n",
    "# Botão para Selecionar o Filtro Após ano e Mês\n",
    "def botao_filtro_data():\n",
    "    submit_button = navegador.find_element(by=By.XPATH, value=\"//*[@class='btn btn-primary' and @type='submit']\")\n",
    "    submit_button.click()\n",
    "\n",
    "# Função de Seleção de Estado\n",
    "def select_uf(estado):\n",
    "    filtro_uf = navegador.find_element(by=By.NAME, value='ufFiltro')\n",
    "    drop = Select(filtro_uf)\n",
    "    drop.select_by_visible_text(estado)\n",
    "   \n",
    "# Botão de exportação da Rede Sim \n",
    "def botao_exportar():\n",
    "    submit_button = navegador.find_element(by=By.XPATH, value=\"//*[@class='fa fa-file-pdf-o']\")\n",
    "    submit_button.click()"
   ]
  },
  {
   "cell_type": "code",
   "execution_count": 158,
   "metadata": {},
   "outputs": [],
   "source": [
    "# for ano in ['2019', '2020', '2021', '2022']:\n",
    "#     for mes in lista_mes:\n",
    "#         try:\n",
    "#             selecao_ano(ano)\n",
    "#             selecao_mes(mes)\n",
    "#             botao_filtro_data()\n",
    "#             select_uf('SC')\n",
    "#             botao_exportar()\n",
    "#             time.sleep(2)\n",
    "#         except:\n",
    "#             pass\n",
    "        "
   ]
  },
  {
   "cell_type": "code",
   "execution_count": null,
   "metadata": {},
   "outputs": [],
   "source": [
    "for ano in lista_ano:\n",
    "    for mes in lista_mes:\n",
    "        try:\n",
    "            selecao_ano(ano)\n",
    "            selecao_mes(mes)\n",
    "            botao_filtro_data()\n",
    "            select_uf('SC')\n",
    "            botao_exportar()\n",
    "            time.sleep(2)\n",
    "        except:\n",
    "            pass\n",
    "        "
   ]
  }
 ],
 "metadata": {
  "interpreter": {
   "hash": "b3ba2566441a7c06988d0923437866b63cedc61552a5af99d1f4fb67d367b25f"
  },
  "kernelspec": {
   "display_name": "Python 3.9.7 ('base')",
   "language": "python",
   "name": "python3"
  },
  "language_info": {
   "codemirror_mode": {
    "name": "ipython",
    "version": 3
   },
   "file_extension": ".py",
   "mimetype": "text/x-python",
   "name": "python",
   "nbconvert_exporter": "python",
   "pygments_lexer": "ipython3",
   "version": "3.9.7"
  },
  "orig_nbformat": 4
 },
 "nbformat": 4,
 "nbformat_minor": 2
}
